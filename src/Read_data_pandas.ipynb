{
 "cells": [
  {
   "cell_type": "markdown",
   "metadata": {},
   "source": [
    "# STK-IN4300 Oblig 1\n",
    "## Task 1"
   ]
  },
  {
   "cell_type": "code",
   "execution_count": 28,
   "metadata": {},
   "outputs": [],
   "source": [
    "# Importing needed modules\n",
    "import pandas as pd\n",
    "import numpy as np\n",
    "import sklearn.linear_model as skllm\n",
    "import sklearn.model_selection as sklms\n",
    "import sklearn.preprocessing as sklpre\n",
    "import warnings\n",
    "# Ignoring annoying deprecation warnings from Scikit-Learn\n",
    "warnings.filterwarnings(\"ignore\", category=DeprecationWarning)"
   ]
  },
  {
   "cell_type": "code",
   "execution_count": 1,
   "metadata": {},
   "outputs": [],
   "source": [
    "# Loading R into notebook\n",
    "%load_ext rpy2.ipython"
   ]
  },
  {
   "cell_type": "code",
   "execution_count": null,
   "metadata": {},
   "outputs": [],
   "source": [
    "%%R\n",
    "# Running R-code in notebook, nice way to contain R and Python in same file!\n",
    "library(BiocManager)\n",
    "library(ArrayExpress)\n",
    "system(\"mkdir E-GEOD-12288\")\n",
    "tmp <- getAE(\"E-GEOD-12288\", type = \"processed\", path = \"E-GEOD-12288\")\n",
    "tmpProc <- getcolproc(tmp)\n",
    "tmpE <- procset(tmp, tmpProc[2])\n",
    "# extract information\n",
    "info <- pData(tmpE)\n",
    "# extract input matrix (gene expressions)\n",
    "X <- t(exprs(tmpE))[info[, 40] == \"case\", ]\n",
    "# extract response (CADi)\n",
    "CADi <- info[info[ , 40] == \"case\", 37]\n",
    "# remove temporary files\n",
    "rm(info, tmp, tmpE, tmpProc)\n",
    "# Saving data for later to be loaded into Python. Do not actually need to save it here, as Python could read R variables\n",
    "# because of the notebook environment I'm running, but I did not want to download the data more than once.\n",
    "write.csv(data.frame(CADi, X), file=\"data/data_for_python.csv\")\n"
   ]
  },
  {
   "cell_type": "code",
   "execution_count": 14,
   "metadata": {},
   "outputs": [],
   "source": [
    "# Loading the saved file using Pandas\n",
    "data = pd.read_csv(\"data/data_for_python.csv\")\n",
    "\n",
    "# Dropping useless column\n",
    "data.drop([\"Unnamed: 0\"], axis=1, inplace=True)\n",
    "\n",
    "# Extracting CADi-data from dataframe\n",
    "y = np.array(data[\"CADi\"], dtype=np.float32)#.reshape(-1, 1)\n",
    "\n",
    "# Dropping CADi data from dataframe to make creating X simpler\n",
    "data.drop([\"CADi\"], axis=1, inplace=True)\n",
    "\n",
    "# Creating design matrix in array-form, as arrays are more memory efficient than dataframes.\n",
    "X = np.array(data, dtype=np.float32)\n",
    "\n",
    "# Deleting dataframe to save RAM\n",
    "del data\n",
    "\n",
    "# Used for scaling\n",
    "scaler = sklpre.StandardScaler()\n",
    "\n",
    "# Scaling features\n",
    "X = scaler.fit_transform(X)\n",
    "\n",
    "# Scaling data (Not sure if you should actually scale the data), the reshape() and ravel() are just so that the\n",
    "# fit_transform function works properly, probably a dumb workaround.\n",
    "y = scaler.fit_transform(y.reshape(-1, 1)).ravel()\n",
    "\n",
    "# Splitting into train and test\n",
    "X_train, X_test, y_train, y_test = sklms.train_test_split(X, y, test_size=0.33)\n",
    "\n",
    "# Deleting X to save RAM\n",
    "del X\n"
   ]
  },
  {
   "cell_type": "code",
   "execution_count": 30,
   "metadata": {},
   "outputs": [],
   "source": [
    "# Ridge with k=5 cross validation used to find best hyperparameter\n",
    "ridge = skllm.RidgeCV(fit_intercept=False, cv=5, gcv_mode=\"auto\").fit(X_train, y_train)"
   ]
  },
  {
   "cell_type": "code",
   "execution_count": 7,
   "metadata": {},
   "outputs": [],
   "source": [
    "# Lasso with k=5 cross validation used to find best hyperparameter\n",
    "lasso = skllm.LassoCV(fit_intercept=False, cv=5, n_jobs=-1, selection=\"random\").fit(X_train, y_train)"
   ]
  },
  {
   "cell_type": "code",
   "execution_count": 31,
   "metadata": {},
   "outputs": [
    {
     "name": "stdout",
     "output_type": "stream",
     "text": [
      "Ridge: Train R2:   1.000. Test R2:  -0.033. Best lambda:  10.000.\n",
      "LASSO: Train R2:  -0.001. Test R2:  -0.004. Best lambda:   0.532.\n"
     ]
    }
   ],
   "source": [
    "# Fancy print formatting\n",
    "print(f\"Ridge: Train R2: {ridge.score(X_train, y_train):7.3f}. Test R2: {ridge.score(X_test, y_test):7.3f}. Best lambda: {ridge.alpha_:7.3f}.\")\n",
    "print(f\"LASSO: Train R2: {lasso.score(X_train, y_train):7.3f}. Test R2: {lasso.score(X_test, y_test):7.3f}. Best lambda: {lasso.alpha_:7.3f}.\")"
   ]
  },
  {
   "cell_type": "markdown",
   "metadata": {},
   "source": [
    "As we can see, the best models of both Ridge and LASSO are completely useless, with $R^2$-scores of $\\sim 0$, meaning they are as bad as using only the mean of the data as a model. This seems to imply that gene data cannot be used to predict fat content in blood, which makes sense, as fat comes from lifestyle and not genetics! \n",
    "It also makes sense that trying to use $\\sim 22000$ features with only $\\sim 100$ is a bad idea."
   ]
  },
  {
   "cell_type": "markdown",
   "metadata": {},
   "source": [
    "## Task 2\n",
    "We want to solve\n",
    "\\begin{equation}\n",
    "\\text{argmin}_\\omega \\left[ \\sum_{i=1}^n g'(\\omega_\\text{old}^T x_i)^2 \\left( \\frac{y_i - g(\\omega_\\text{old}^T x_i)}{g'(\\omega_\\text{old}^T x_i)} + \\omega_\\text{old}^T x_i - \\omega^T x_i \\right)^2 \\right].\n",
    "\\end{equation}\n",
    "To do this, we set the derivate equal to zero and solve for $\\omega$:\n",
    "\\begin{align}\n",
    "&\\frac{\\partial }{\\partial \\omega}\\left[ \\sum_{i=1}^n g'(\\omega_\\text{old}^T x_i)^2 \\left( \\frac{y_i - g(\\omega_\\text{old}^T x_i)}{g'(\\omega_\\text{old}^T x_i)} + \\omega_\\text{old}^T x_i - \\omega^T x_i \\right)^2 \\right]=0 \\\\\n",
    "\\rightarrow & \n",
    "\\end{align}"
   ]
  }
 ],
 "metadata": {
  "kernelspec": {
   "display_name": "Python 3",
   "language": "python",
   "name": "python3"
  },
  "language_info": {
   "codemirror_mode": {
    "name": "ipython",
    "version": 3
   },
   "file_extension": ".py",
   "mimetype": "text/x-python",
   "name": "python",
   "nbconvert_exporter": "python",
   "pygments_lexer": "ipython3",
   "version": "3.6.7"
  }
 },
 "nbformat": 4,
 "nbformat_minor": 2
}
